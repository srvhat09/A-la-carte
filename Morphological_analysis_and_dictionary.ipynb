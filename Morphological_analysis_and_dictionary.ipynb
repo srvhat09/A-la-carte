{
  "nbformat": 4,
  "nbformat_minor": 0,
  "metadata": {
    "colab": {
      "name": "Morphological analysis and dictionary.ipynb",
      "provenance": [],
      "authorship_tag": "ABX9TyNdakvbLDwMSKSfp6j4qIrk",
      "include_colab_link": true
    },
    "kernelspec": {
      "name": "python3",
      "display_name": "Python 3"
    },
    "language_info": {
      "name": "python"
    }
  },
  "cells": [
    {
      "cell_type": "markdown",
      "metadata": {
        "id": "view-in-github",
        "colab_type": "text"
      },
      "source": [
        "<a href=\"https://colab.research.google.com/github/srvhat09/A-la-carte/blob/main/Morphological_analysis_and_dictionary.ipynb\" target=\"_parent\"><img src=\"https://colab.research.google.com/assets/colab-badge.svg\" alt=\"Open In Colab\"/></a>"
      ]
    },
    {
      "cell_type": "markdown",
      "source": [
        "# 形態素解析と辞書の調査"
      ],
      "metadata": {
        "id": "wUg_7MuW1e1T"
      }
    },
    {
      "cell_type": "markdown",
      "source": [
        "# JUMAN++"
      ],
      "metadata": {
        "id": "nOgZoAAn1jwR"
      }
    },
    {
      "cell_type": "code",
      "execution_count": null,
      "metadata": {
        "id": "Y3xE0sTq1YpM"
      },
      "outputs": [],
      "source": [
        "# JUMAN++ 2.0.0 rc3のインストール\n",
        "!wget https://github.com/ku-nlp/jumanpp/releases/download/v2.0.0-rc3/jumanpp-2.0.0-rc3.tar.xz"
      ]
    },
    {
      "cell_type": "code",
      "source": [
        "!xz -dv jumanpp-2.0.0-rc3.tar.xz > /dev/null\n",
        "!tar xvf jumanpp-2.0.0-rc3.tar > /dev/null\n",
        "%cd jumanpp-2.0.0-rc3/\n",
        "!mkdir bid\n",
        "%cd bid\n",
        "!cmake .. -DCMAKE_BUILD_TYPE=Release -DCMAKE_INSTALL_PREFIX=/usr/local\n",
        "!make install -j2"
      ],
      "metadata": {
        "id": "K6GnlLi72ISg"
      },
      "execution_count": null,
      "outputs": []
    },
    {
      "cell_type": "code",
      "source": [
        "!echo \"修学旅行の宿泊日は10月9日から三日間です。\" | jumanpp"
      ],
      "metadata": {
        "colab": {
          "base_uri": "https://localhost:8080/"
        },
        "id": "njFUZAwk4SOL",
        "outputId": "a48b2bfe-b2e0-4add-de44-1f94dc60fa7b"
      },
      "execution_count": null,
      "outputs": [
        {
          "output_type": "stream",
          "name": "stdout",
          "text": [
            "修学 しゅうがく 修学 名詞 6 サ変名詞 2 * 0 * 0 \"代表表記:修学/しゅうがく ドメイン:教育・学習 カテゴリ:抽象物\"\n",
            "旅行 りょこう 旅行 名詞 6 サ変名詞 2 * 0 * 0 \"代表表記:旅行/りょこう ドメイン:レクリエーション カテゴリ:抽象物\"\n",
            "の の の 助詞 9 接続助詞 3 * 0 * 0 NIL\n",
            "宿泊 しゅくはく 宿泊 名詞 6 サ変名詞 2 * 0 * 0 \"代表表記:宿泊/しゅくはく ドメイン:レクリエーション カテゴリ:抽象物\"\n",
            "日 ひ 日 名詞 6 時相名詞 10 * 0 * 0 \"代表表記:日/ひ カテゴリ:時間 漢字読み:訓 弱時相名詞\"\n",
            "は は は 助詞 9 副助詞 2 * 0 * 0 NIL\n",
            "10 10 10 名詞 6 数詞 7 * 0 * 0 \"カテゴリ:数量 未知語:数字\"\n",
            "月 がつ 月 接尾辞 14 名詞性名詞助数辞 3 * 0 * 0 \"代表表記:月/がつ カテゴリ:時間 準内容語\"\n",
            "9 きゅう 9 名詞 6 数詞 7 * 0 * 0 \"カテゴリ:数量\"\n",
            "日 にち 日 接尾辞 14 名詞性名詞助数辞 3 * 0 * 0 \"代表表記:日/にち カテゴリ:時間 準内容語\"\n",
            "から から から 助詞 9 格助詞 1 * 0 * 0 NIL\n",
            "三 さん 三 名詞 6 数詞 7 * 0 * 0 \"カテゴリ:数量\"\n",
            "日間 にちかん 日間 接尾辞 14 名詞性名詞助数辞 3 * 0 * 0 \"代表表記:日間/にちかん カテゴリ:時間 準内容語\"\n",
            "です です だ 判定詞 4 * 0 判定詞 25 デス列基本形 27 NIL\n",
            "。 。 。 特殊 1 句点 1 * 0 * 0 NIL\n",
            "EOS\n"
          ]
        }
      ]
    },
    {
      "cell_type": "code",
      "source": [
        "!echo \"機動戦士ガンダム 閃光のハサウェイの映画は情報量が多くて面白いよね\" | jumanpp"
      ],
      "metadata": {
        "colab": {
          "base_uri": "https://localhost:8080/"
        },
        "id": "B4uWKFg64a-U",
        "outputId": "6372554f-c8fa-4828-fc9d-0d1d491b77f8"
      },
      "execution_count": null,
      "outputs": [
        {
          "output_type": "stream",
          "name": "stdout",
          "text": [
            "機動 きどう 機動 名詞 6 普通名詞 1 * 0 * 0 \"代表表記:機動/きどう カテゴリ:抽象物\"\n",
            "戦士 せんし 戦士 名詞 6 普通名詞 1 * 0 * 0 \"代表表記:戦士/せんし カテゴリ:人\"\n",
            "ガンダム がんだむ ガンダム 名詞 6 固有名詞 3 * 0 * 0 \"代表表記:ガンダム/がんだむ\"\n",
            "　 　 　 特殊 1 空白 6 * 0 * 0 \"代表表記:S/* 元半角\"\n",
            "閃光 せんこう 閃光 名詞 6 普通名詞 1 * 0 * 0 \"自動獲得:Wikipedia Wikipedia多義\"\n",
            "の の の 助詞 9 接続助詞 3 * 0 * 0 NIL\n",
            "ハサウェイ ハサウェイ ハサウェイ 名詞 6 人名 5 * 0 * 0 \"自動獲得:Wikipedia Wikipedia人名 Wikipedia多義\"\n",
            "の の の 助詞 9 接続助詞 3 * 0 * 0 NIL\n",
            "映画 えいが 映画 名詞 6 普通名詞 1 * 0 * 0 \"代表表記:映画/えいが ドメイン:文化・芸術 カテゴリ:抽象物\"\n",
            "は は は 助詞 9 副助詞 2 * 0 * 0 NIL\n",
            "情報 じょうほう 情報 名詞 6 普通名詞 1 * 0 * 0 \"代表表記:情報/じょうほう カテゴリ:抽象物\"\n",
            "量 りょう 量 名詞 6 普通名詞 1 * 0 * 0 \"代表表記:量/りょう カテゴリ:数量 漢字読み:音\"\n",
            "が が が 助詞 9 格助詞 1 * 0 * 0 NIL\n",
            "多くて おおくて 多い 形容詞 3 * 0 イ形容詞アウオ段 18 タ系連用テ形 12 \"代表表記:多い/おおい 反義:形容詞:少ない/すくない\"\n",
            "面白い おもしろい 面白い 形容詞 3 * 0 イ形容詞アウオ段 18 基本形 2 \"代表表記:面白い/おもしろい 反義:形容詞:つまらない/つまらない\"\n",
            "よ よ よ 助詞 9 終助詞 4 * 0 * 0 NIL\n",
            "ね ね ね 助詞 9 終助詞 4 * 0 * 0 NIL\n",
            "EOS\n"
          ]
        }
      ]
    },
    {
      "cell_type": "code",
      "source": [
        "!echo \"聖女の魔力は万能ですに出てくる小鳥遊 聖はかわいいですね。\" | jumanpp"
      ],
      "metadata": {
        "colab": {
          "base_uri": "https://localhost:8080/"
        },
        "id": "JhIAYCRm4gbh",
        "outputId": "d3c09464-6ecf-41aa-b0a1-90fb454effdc"
      },
      "execution_count": null,
      "outputs": [
        {
          "output_type": "stream",
          "name": "stdout",
          "text": [
            "聖女 せいじょ 聖女 名詞 6 人名 5 * 0 * 0 \"自動獲得:Wikipedia Wikipedia人名 Wikipedia多義\"\n",
            "の の の 助詞 9 接続助詞 3 * 0 * 0 NIL\n",
            "魔力 まりょく 魔力 名詞 6 普通名詞 1 * 0 * 0 \"代表表記:魔力/まりょく カテゴリ:抽象物\"\n",
            "は は は 助詞 9 副助詞 2 * 0 * 0 NIL\n",
            "万能 ばんのう 万能 名詞 6 普通名詞 1 * 0 * 0 \"代表表記:万能/ばんのう カテゴリ:抽象物\"\n",
            "です です だ 判定詞 4 * 0 判定詞 25 デス列基本形 27 NIL\n",
            "に に に 助詞 9 格助詞 1 * 0 * 0 NIL\n",
            "出て でて 出る 動詞 2 * 0 母音動詞 1 タ系連用テ形 14 \"代表表記:出る/でる 反義:動詞:入る/はいる 自他動詞:他:出す/だす 補文ト\"\n",
            "くる くる くる 接尾辞 14 動詞性接尾辞 7 カ変動詞 14 基本形 2 \"代表表記:くる/くる\"\n",
            "小鳥遊 たかなし 小鳥遊 名詞 6 人名 5 * 0 * 0 \"自動獲得:Wikipedia Wikipedia人名 Wikipedia多義\"\n",
            "　 　 　 特殊 1 空白 6 * 0 * 0 \"代表表記:S/* 元半角\"\n",
            "聖 ひじり 聖 名詞 6 普通名詞 1 * 0 * 0 \"代表表記:聖/ひじり ドメイン:文化・芸術 カテゴリ:人\"\n",
            "は は は 助詞 9 副助詞 2 * 0 * 0 NIL\n",
            "かわいい かわいい かわいい 形容詞 3 * 0 イ形容詞イ段 19 基本形 2 \"代表表記:可愛い/かわいい\"\n",
            "です です です 助動詞 5 * 0 無活用型 26 基本形 2 NIL\n",
            "ね ね ね 助詞 9 終助詞 4 * 0 * 0 NIL\n",
            "。 。 。 特殊 1 句点 1 * 0 * 0 NIL\n",
            "EOS\n"
          ]
        }
      ]
    },
    {
      "cell_type": "markdown",
      "source": [
        "# 形態素分析ライブラリーMeCab と 辞書(mecab-ipadic-NEologd)"
      ],
      "metadata": {
        "id": "hI2s9H-1478i"
      }
    },
    {
      "cell_type": "code",
      "source": [
        "# 形態素分析ライブラリーMeCab と 辞書(mecab-ipadic-NEologd)のインストール\n",
        "!apt-get -q -y install sudo file mecab libmecab-dev mecab-ipadic-utf8 git curl python-mecab > /dev/null\n",
        "!git clone --depth 1 https://github.com/neologd/mecab-ipadic-neologd.git > /dev/null \n",
        "!echo yes | mecab-ipadic-neologd/bin/install-mecab-ipadic-neologd -n > /dev/null 2>&1\n",
        "!pip install mecab-python3 > /dev/null\n",
        "\n",
        "# シンボリックリンクによるエラー回避\n",
        "!ln -s /etc/mecabrc /usr/local/etc/mecabrc"
      ],
      "metadata": {
        "id": "tODjxV3r5Lgb"
      },
      "execution_count": null,
      "outputs": []
    },
    {
      "cell_type": "code",
      "source": [
        "!echo `mecab-config --dicdir`\"/mecab-ipadic-neologd\""
      ],
      "metadata": {
        "id": "EVwWOTqE5UpV",
        "colab": {
          "base_uri": "https://localhost:8080/"
        },
        "outputId": "a51f3d4e-9bb2-406d-a926-c4bca0f8ed6a"
      },
      "execution_count": 2,
      "outputs": [
        {
          "output_type": "stream",
          "name": "stdout",
          "text": [
            "/usr/lib/x86_64-linux-gnu/mecab/dic/mecab-ipadic-neologd\n"
          ]
        }
      ]
    },
    {
      "cell_type": "markdown",
      "source": [
        "外部辞書であるNEologdを指定することで実現する。"
      ],
      "metadata": {
        "id": "DZ21UPd1c6_U"
      }
    },
    {
      "cell_type": "code",
      "source": [
        "!echo \"修学旅行の宿泊日は10月9日から三日間です。\" | mecab -d /usr/lib/x86_64-linux-gnu/mecab/dic/mecab-ipadic-neologd"
      ],
      "metadata": {
        "colab": {
          "base_uri": "https://localhost:8080/"
        },
        "id": "K8mOnfQgcOgj",
        "outputId": "84e540ef-cd8b-44d9-f69b-f40fb829b82d"
      },
      "execution_count": 4,
      "outputs": [
        {
          "output_type": "stream",
          "name": "stdout",
          "text": [
            "修学旅行\t名詞,一般,*,*,*,*,修学旅行,シュウガクリョコウ,シューガクリョコー\n",
            "の\t助詞,連体化,*,*,*,*,の,ノ,ノ\n",
            "宿泊\t名詞,サ変接続,*,*,*,*,宿泊,シュクハク,シュクハク\n",
            "日\t名詞,接尾,一般,*,*,*,日,ビ,ビ\n",
            "は\t助詞,係助詞,*,*,*,*,は,ハ,ワ\n",
            "10月9日\t名詞,固有名詞,一般,*,*,*,10月9日,ジュウガツココノカ,ジューガツココノカ\n",
            "から\t助詞,格助詞,一般,*,*,*,から,カラ,カラ\n",
            "三\t名詞,数,*,*,*,*,三,サン,サン\n",
            "日間\t名詞,接尾,助数詞,*,*,*,日間,ニチカン,ニチカン\n",
            "です\t助動詞,*,*,*,特殊・デス,基本形,です,デス,デス\n",
            "。\t記号,句点,*,*,*,*,。,。,。\n",
            "EOS\n"
          ]
        }
      ]
    },
    {
      "cell_type": "code",
      "source": [
        "!echo \"機動戦士ガンダム 閃光のハサウェイの映画は情報量が多くて面白いよね\" | mecab -d /usr/lib/x86_64-linux-gnu/mecab/dic/mecab-ipadic-neologd"
      ],
      "metadata": {
        "colab": {
          "base_uri": "https://localhost:8080/"
        },
        "id": "Bjg_fTqBco6V",
        "outputId": "96387e3d-452c-4054-97a6-8af7d32556bb"
      },
      "execution_count": 5,
      "outputs": [
        {
          "output_type": "stream",
          "name": "stdout",
          "text": [
            "機動戦士ガンダム 閃光のハサウェイ\t名詞,固有名詞,一般,*,*,*,機動戦士ガンダム閃光のハサウェイ,キドウセンシガンダムセンコウノハサウェイ,キドーセンシガンダムセンコーノハサウェイ\n",
            "の\t助詞,連体化,*,*,*,*,の,ノ,ノ\n",
            "映画\t名詞,一般,*,*,*,*,映画,エイガ,エイガ\n",
            "は\t助詞,係助詞,*,*,*,*,は,ハ,ワ\n",
            "情報量\t名詞,固有名詞,一般,*,*,*,情報量,ジョウホウリョウ,ジョーホーリョー\n",
            "が\t助詞,格助詞,一般,*,*,*,が,ガ,ガ\n",
            "多く\t形容詞,自立,*,*,形容詞・アウオ段,連用テ接続,多い,オオク,オーク\n",
            "て\t助詞,接続助詞,*,*,*,*,て,テ,テ\n",
            "面白い\t形容詞,自立,*,*,形容詞・アウオ段,基本形,面白い,オモシロイ,オモシロイ\n",
            "よ\t助詞,終助詞,*,*,*,*,よ,ヨ,ヨ\n",
            "ね\t助詞,終助詞,*,*,*,*,ね,ネ,ネ\n",
            "EOS\n"
          ]
        }
      ]
    },
    {
      "cell_type": "code",
      "source": [
        "!echo \"聖女の魔力は万能ですに出てくる小鳥遊 聖はかわいいですね。\" | mecab -d /usr/lib/x86_64-linux-gnu/mecab/dic/mecab-ipadic-neologd"
      ],
      "metadata": {
        "colab": {
          "base_uri": "https://localhost:8080/"
        },
        "id": "k8QRrva0cy4b",
        "outputId": "5e4585cd-3013-41ab-927f-2674738a864e"
      },
      "execution_count": 6,
      "outputs": [
        {
          "output_type": "stream",
          "name": "stdout",
          "text": [
            "聖女の魔力は万能です\t名詞,固有名詞,一般,*,*,*,聖女の魔力は万能です,セイジョノマリョクハバンノウデス,セイジョノマリョクワバンノーデス\n",
            "に\t助詞,格助詞,一般,*,*,*,に,ニ,ニ\n",
            "出\t動詞,自立,*,*,一段,連用形,出る,デ,デ\n",
            "て\t助詞,接続助詞,*,*,*,*,て,テ,テ\n",
            "くる\t動詞,非自立,*,*,カ変・クル,基本形,くる,クル,クル\n",
            "小鳥遊\t名詞,固有名詞,人名,姓,*,*,小鳥遊,タカナシ,タカナシ\n",
            "聖\t名詞,固有名詞,人名,名,*,*,聖,キヨシ,キヨシ\n",
            "は\t助詞,係助詞,*,*,*,*,は,ハ,ワ\n",
            "かわいい\t形容詞,自立,*,*,形容詞・イ段,基本形,かわいい,カワイイ,カワイイ\n",
            "です\t助動詞,*,*,*,特殊・デス,基本形,です,デス,デス\n",
            "ね\t助詞,終助詞,*,*,*,*,ね,ネ,ネ\n",
            "。\t記号,句点,*,*,*,*,。,。,。\n",
            "EOS\n"
          ]
        }
      ]
    },
    {
      "cell_type": "markdown",
      "source": [
        "外部辞書を使わないとmecab標準辞書がそのまま利用される"
      ],
      "metadata": {
        "id": "RG4akRARc4Kr"
      }
    },
    {
      "cell_type": "code",
      "source": [
        "!echo \"修学旅行の宿泊日は10月9日から三日間です。\" | mecab"
      ],
      "metadata": {
        "colab": {
          "base_uri": "https://localhost:8080/"
        },
        "id": "sR_-1n3UdOIU",
        "outputId": "89f55c62-5c25-440e-cd34-81dce9e1b330"
      },
      "execution_count": 7,
      "outputs": [
        {
          "output_type": "stream",
          "name": "stdout",
          "text": [
            "修学旅行\t名詞,一般,*,*,*,*,修学旅行,シュウガクリョコウ,シューガクリョコー\n",
            "の\t助詞,連体化,*,*,*,*,の,ノ,ノ\n",
            "宿泊\t名詞,サ変接続,*,*,*,*,宿泊,シュクハク,シュクハク\n",
            "日\t名詞,接尾,一般,*,*,*,日,ビ,ビ\n",
            "は\t助詞,係助詞,*,*,*,*,は,ハ,ワ\n",
            "10\t名詞,数,*,*,*,*,*\n",
            "月\t名詞,一般,*,*,*,*,月,ツキ,ツキ\n",
            "9\t名詞,数,*,*,*,*,*\n",
            "日\t名詞,接尾,助数詞,*,*,*,日,ニチ,ニチ\n",
            "から\t助詞,格助詞,一般,*,*,*,から,カラ,カラ\n",
            "三\t名詞,数,*,*,*,*,三,サン,サン\n",
            "日間\t名詞,接尾,助数詞,*,*,*,日間,ニチカン,ニチカン\n",
            "です\t助動詞,*,*,*,特殊・デス,基本形,です,デス,デス\n",
            "。\t記号,句点,*,*,*,*,。,。,。\n",
            "EOS\n"
          ]
        }
      ]
    },
    {
      "cell_type": "code",
      "source": [
        "!echo \"機動戦士ガンダム 閃光のハサウェイの映画は情報量が多くて面白いよね\" | mecab"
      ],
      "metadata": {
        "colab": {
          "base_uri": "https://localhost:8080/"
        },
        "id": "iPTfWiHjdP6u",
        "outputId": "515ce9b9-0014-4f88-c921-773ea9ace495"
      },
      "execution_count": 8,
      "outputs": [
        {
          "output_type": "stream",
          "name": "stdout",
          "text": [
            "機動\t名詞,一般,*,*,*,*,機動,キドウ,キドー\n",
            "戦士\t名詞,一般,*,*,*,*,戦士,センシ,センシ\n",
            "ガン\t名詞,一般,*,*,*,*,ガン,ガン,ガン\n",
            "ダム\t名詞,一般,*,*,*,*,ダム,ダム,ダム\n",
            "閃光\t名詞,一般,*,*,*,*,閃光,センコウ,センコー\n",
            "の\t助詞,連体化,*,*,*,*,の,ノ,ノ\n",
            "ハサウェイ\t名詞,一般,*,*,*,*,*\n",
            "の\t助詞,連体化,*,*,*,*,の,ノ,ノ\n",
            "映画\t名詞,一般,*,*,*,*,映画,エイガ,エイガ\n",
            "は\t助詞,係助詞,*,*,*,*,は,ハ,ワ\n",
            "情報\t名詞,一般,*,*,*,*,情報,ジョウホウ,ジョーホー\n",
            "量\t名詞,接尾,一般,*,*,*,量,リョウ,リョウ\n",
            "が\t助詞,格助詞,一般,*,*,*,が,ガ,ガ\n",
            "多く\t形容詞,自立,*,*,形容詞・アウオ段,連用テ接続,多い,オオク,オーク\n",
            "て\t助詞,接続助詞,*,*,*,*,て,テ,テ\n",
            "面白い\t形容詞,自立,*,*,形容詞・アウオ段,基本形,面白い,オモシロイ,オモシロイ\n",
            "よ\t助詞,終助詞,*,*,*,*,よ,ヨ,ヨ\n",
            "ね\t助詞,終助詞,*,*,*,*,ね,ネ,ネ\n",
            "EOS\n"
          ]
        }
      ]
    },
    {
      "cell_type": "code",
      "source": [
        "!echo \"聖女の魔力は万能ですに出てくる小鳥遊 聖はかわいいですね。\" | mecab"
      ],
      "metadata": {
        "colab": {
          "base_uri": "https://localhost:8080/"
        },
        "id": "_ZP-FcVYdWfp",
        "outputId": "c70091a7-1867-4fdd-b90a-d028baccdef6"
      },
      "execution_count": 9,
      "outputs": [
        {
          "output_type": "stream",
          "name": "stdout",
          "text": [
            "聖女\t名詞,一般,*,*,*,*,聖女,セイジョ,セイジョ\n",
            "の\t助詞,連体化,*,*,*,*,の,ノ,ノ\n",
            "魔力\t名詞,一般,*,*,*,*,魔力,マリョク,マリョク\n",
            "は\t助詞,係助詞,*,*,*,*,は,ハ,ワ\n",
            "万能\t名詞,一般,*,*,*,*,万能,バンノウ,バンノー\n",
            "です\t助動詞,*,*,*,特殊・デス,基本形,です,デス,デス\n",
            "に\t助詞,格助詞,一般,*,*,*,に,ニ,ニ\n",
            "出\t動詞,自立,*,*,一段,連用形,出る,デ,デ\n",
            "て\t助詞,接続助詞,*,*,*,*,て,テ,テ\n",
            "くる\t動詞,非自立,*,*,カ変・クル,基本形,くる,クル,クル\n",
            "小鳥\t名詞,一般,*,*,*,*,小鳥,コトリ,コトリ\n",
            "遊\t名詞,一般,*,*,*,*,*\n",
            "聖\t名詞,一般,*,*,*,*,聖,ヒジリ,ヒジリ\n",
            "は\t助詞,係助詞,*,*,*,*,は,ハ,ワ\n",
            "かわいい\t形容詞,自立,*,*,形容詞・イ段,基本形,かわいい,カワイイ,カワイイ\n",
            "です\t助動詞,*,*,*,特殊・デス,基本形,です,デス,デス\n",
            "ね\t助詞,終助詞,*,*,*,*,ね,ネ,ネ\n",
            "。\t記号,句点,*,*,*,*,。,。,。\n",
            "EOS\n"
          ]
        }
      ]
    },
    {
      "cell_type": "markdown",
      "source": [
        "# 形態素分析ライブラリーMeCab と 辞書(unidic)"
      ],
      "metadata": {
        "id": "cJYL6KNveqNT"
      }
    },
    {
      "cell_type": "code",
      "source": [
        "!wget https://osdn.net/dl/unidic/unidic-mecab-2.1.2_src.zip\n",
        "!unzip unidic-mecab-2.1.2_src.zip"
      ],
      "metadata": {
        "id": "8Obynh96evaN"
      },
      "execution_count": null,
      "outputs": []
    },
    {
      "cell_type": "code",
      "source": [
        "%cd unidic-mecab-2.1.2_src\n",
        "!./configure\n",
        "!make\n",
        "!make check\n",
        "!make install"
      ],
      "metadata": {
        "id": "cgGdUv37fZxy"
      },
      "execution_count": null,
      "outputs": []
    },
    {
      "cell_type": "code",
      "source": [
        "!echo \"修学旅行の宿泊日は10月9日から三日間です。\" | mecab -d /usr/lib/x86_64-linux-gnu/mecab/dic/unidic"
      ],
      "metadata": {
        "colab": {
          "base_uri": "https://localhost:8080/"
        },
        "id": "0WOpJERSgnNI",
        "outputId": "12a580be-9b8a-44cb-f0f9-78a4c4c8d803"
      },
      "execution_count": 17,
      "outputs": [
        {
          "output_type": "stream",
          "name": "stdout",
          "text": [
            "修学\tシューガク\tシュウガク\t修学\t名詞-普通名詞-サ変可能\t\t\n",
            "旅行\tリョコー\tリョコウ\t旅行\t名詞-普通名詞-サ変可能\t\t\n",
            "の\tノ\tノ\tの\t助詞-格助詞\t\t\n",
            "宿泊\tシュクハク\tシュクハク\t宿泊\t名詞-普通名詞-サ変可能\t\t\n",
            "日\tヒ\tヒ\t日\t名詞-普通名詞-副詞可能\t\t\n",
            "は\tワ\tハ\tは\t助詞-係助詞\t\t\n",
            "1\tイチ\tイチ\t一\t名詞-数詞\t\t\n",
            "0\tゼロ\tゼロ\tゼロ-zero\t名詞-数詞\t\t\n",
            "月\tガツ\tガツ\t月\t名詞-普通名詞-助数詞可能\t\t\n",
            "9\tキュー\tキュウ\t九\t名詞-数詞\t\t\n",
            "日\tニチ\tニチ\t日\t名詞-普通名詞-助数詞可能\t\t\n",
            "から\tカラ\tカラ\tから\t助詞-格助詞\t\t\n",
            "三\tミッ\tミ\t三\t名詞-数詞\t\t\n",
            "日間\tカカン\tカカン\t日間\t名詞-普通名詞-助数詞可能\t\t\n",
            "です\tデス\tデス\tです\t助動詞\t助動詞-デス\t終止形-一般\n",
            "。\t\t\t。\t補助記号-句点\t\t\n",
            "EOS\n"
          ]
        }
      ]
    },
    {
      "cell_type": "code",
      "source": [
        "!echo \"機動戦士ガンダム 閃光のハサウェイの映画は情報量が多くて面白いよね\" | mecab -d /usr/lib/x86_64-linux-gnu/mecab/dic/unidic"
      ],
      "metadata": {
        "colab": {
          "base_uri": "https://localhost:8080/"
        },
        "id": "wl27rusvguCx",
        "outputId": "6dea7652-b947-4ebd-a28e-8ec5dc01f1f0"
      },
      "execution_count": 18,
      "outputs": [
        {
          "output_type": "stream",
          "name": "stdout",
          "text": [
            "機動\tキドー\tキドウ\t機動\t名詞-普通名詞-一般\t\t\n",
            "戦士\tセンシ\tセンシ\t戦士\t名詞-普通名詞-一般\t\t\n",
            "ガンダム\tガンダム\tガンダム\tガンダム\t名詞-固有名詞-一般\t\t\n",
            "閃光\tセンコー\tセンコウ\t閃光\t名詞-普通名詞-一般\t\t\n",
            "の\tノ\tノ\tの\t助詞-格助詞\t\t\n",
            "ハサウェイ\tハサウェー\tハサウェー\tハサウェー-外国\t名詞-固有名詞-人名-一般\t\t\n",
            "の\tノ\tノ\tの\t助詞-格助詞\t\t\n",
            "映画\tエーガ\tエイガ\t映画\t名詞-普通名詞-一般\t\t\n",
            "は\tワ\tハ\tは\t助詞-係助詞\t\t\n",
            "情報\tジョーホー\tジョウホウ\t情報\t名詞-普通名詞-一般\t\t\n",
            "量\tリョー\tリョウ\t量\t名詞-普通名詞-一般\t\t\n",
            "が\tガ\tガ\tが\t助詞-格助詞\t\t\n",
            "多く\tオーク\tオオイ\t多い\t形容詞-一般\t形容詞\t連用形-一般\n",
            "て\tテ\tテ\tて\t助詞-接続助詞\t\t\n",
            "面白い\tオモシロイ\tオモシロイ\t面白い\t形容詞-一般\t形容詞\t終止形-一般\n",
            "よ\tヨ\tヨ\tよ\t助詞-終助詞\t\t\n",
            "ね\tネ\tネ\tね\t助詞-終助詞\t\t\n",
            "EOS\n"
          ]
        }
      ]
    },
    {
      "cell_type": "code",
      "source": [
        "!echo \"聖女の魔力は万能ですに出てくる小鳥遊 聖はかわいいですね。\" | mecab -d /usr/lib/x86_64-linux-gnu/mecab/dic/unidic"
      ],
      "metadata": {
        "colab": {
          "base_uri": "https://localhost:8080/"
        },
        "id": "PqLDYvfog84z",
        "outputId": "0e792354-ecc2-4487-9c47-88a1aa0ac4cd"
      },
      "execution_count": 19,
      "outputs": [
        {
          "output_type": "stream",
          "name": "stdout",
          "text": [
            "聖女\tセージョ\tセイジョ\t聖女\t名詞-普通名詞-一般\t\t\n",
            "の\tノ\tノ\tの\t助詞-格助詞\t\t\n",
            "魔力\tマリョク\tマリョク\t魔力\t名詞-普通名詞-一般\t\t\n",
            "は\tワ\tハ\tは\t助詞-係助詞\t\t\n",
            "万能\tバンノー\tバンノウ\t万能\t名詞-普通名詞-一般\t\t\n",
            "です\tデス\tデス\tです\t助動詞\t助動詞-デス\t終止形-一般\n",
            "に\tニ\tニ\tに\t助詞-格助詞\t\t\n",
            "出\tデ\tデル\t出る\t動詞-一般\t下一段-ダ行\t連用形-一般\n",
            "て\tテ\tテ\tて\t助詞-接続助詞\t\t\n",
            "くる\tクル\tクル\t来る\t動詞-非自立可能\tカ行変格\t連体形-一般\n",
            "小鳥遊\tタカナシ\tタカナシ\tタカナシ\t名詞-固有名詞-人名-姓\t\t\n",
            "聖\tキヨシ\tキヨシ\tキヨシ\t名詞-固有名詞-人名-名\t\t\n",
            "は\tワ\tハ\tは\t助詞-係助詞\t\t\n",
            "かわいい\tカワイー\tカワイイ\t可愛い\t形容詞-一般\t形容詞\t終止形-一般\n",
            "です\tデス\tデス\tです\t助動詞\t助動詞-デス\t終止形-一般\n",
            "ね\tネ\tネ\tね\t助詞-終助詞\t\t\n",
            "。\t\t\t。\t補助記号-句点\t\t\n",
            "EOS\n"
          ]
        }
      ]
    }
  ]
}